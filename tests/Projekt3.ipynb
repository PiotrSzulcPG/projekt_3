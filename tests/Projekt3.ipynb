{
 "cells": [
  {
   "cell_type": "markdown",
   "metadata": {},
   "source": [
    "# Semestr 2, Projekt 3\n",
    "***Autorzy: Kacper Glaz (198236) oraz Piotr Szulc (197639)***\n",
    "\n",
    "## Wstęp: Wczytanie sygnałów:"
   ]
  },
  {
   "cell_type": "code",
   "execution_count": 13,
   "metadata": {},
   "outputs": [],
   "source": [
    "import scikit_build_example as sbe\n",
    "from PIL import Image\n",
    "import numpy as np\n",
    "\n",
    "image = Image.open('politechnika.jpg')\n",
    "\n",
    "signal2d = np.array(image)\n",
    "image.show(\"Przykładowe zdjęcie wyświetlone za pomocą PIL\")"
   ]
  },
  {
   "cell_type": "code",
   "execution_count": 14,
   "metadata": {},
   "outputs": [],
   "source": [
    "# TODO: tu wstaw wyświetlanie sygnału typu np.array w jednym wymiarze"
   ]
  },
  {
   "cell_type": "markdown",
   "metadata": {},
   "source": [
    "### Sygnał 2D:"
   ]
  },
  {
   "cell_type": "code",
   "execution_count": 15,
   "metadata": {},
   "outputs": [],
   "source": [
    "# TODO: tu wstaw wyświetlanie sygnału typu np.array w dwóch wymiarach"
   ]
  },
  {
   "cell_type": "markdown",
   "metadata": {},
   "source": [
    "### Wykrywanie krawędzi (za pomocą operatora Sobela)\n",
    "*Źródło: [\"Algorytmy wykrywania krawędzi w obrazie\", Paweł Kowalski, Maciej Czyżak](https://bibliotekanauki.pl/articles/377584.pdf&ved=2ahUKEwiPhuyOqZWGAxWHAxAIHZcJDEsQFnoECB4QAQ&usg=AOvVaw0ak04HQKNdi1a0gmbi-_kT)*"
   ]
  },
  {
   "cell_type": "code",
   "execution_count": null,
   "metadata": {},
   "outputs": [],
   "source": [
    "image_grayscale = image.convert(\"L\") # Detekcja krawędzi musi być w grayscale\n",
    "signal2d_from_grayscale = np.array(image_grayscale)\n",
    "edge_detection = sbe.detect_edge(signal2d_from_grayscale)\n",
    "# TODO: tu wstaw wyświetlanie sygnału typu np.array w dwóch wymiarach\n",
    "Image.fromarray(edge_detection).show() # Temporary\n"
   ]
  }
 ],
 "metadata": {
  "kernelspec": {
   "display_name": "base",
   "language": "python",
   "name": "python3"
  },
  "language_info": {
   "codemirror_mode": {
    "name": "ipython",
    "version": 3
   },
   "file_extension": ".py",
   "mimetype": "text/x-python",
   "name": "python",
   "nbconvert_exporter": "python",
   "pygments_lexer": "ipython3",
   "version": "3.12.2"
  }
 },
 "nbformat": 4,
 "nbformat_minor": 2
}
