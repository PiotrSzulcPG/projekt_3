{
 "cells": [
  {
   "cell_type": "markdown",
   "metadata": {},
   "source": [
    "# Semestr 2, Projekt 3\n",
    "***Autorzy: Kacper Glaz (198236) oraz Piotr Szulc (197639)***\n",
    "Wykorzystane biblioteki:\n",
    "- matplotplusplus (c++)\n",
    "- pillow (python)\n",
    "### Wstęp: Wczytanie sygnałów:"
   ]
  },
  {
   "cell_type": "code",
   "execution_count": 1,
   "metadata": {},
   "outputs": [],
   "source": [
    "from PIL import Image\n",
    "import scikit_build_example as sbe\n",
    "import numpy as np\n",
    "import IPython.display\n",
    "\n",
    "image = Image.open('politechnika.jpg')\n",
    "signal2d = np.array(image)\n",
    "sbe.greeting() # Sprawdzenie, czy biblioteka się poprawnie wczytała"
   ]
  },
  {
   "cell_type": "markdown",
   "metadata": {},
   "source": [
    "# Wizualizacja wykresów 1D\n",
    "Przykład obrazujący zaimplementowaną funkcjonalnośc rysowania wykresów 1 wymiarowych"
   ]
  },
  {
   "cell_type": "code",
   "execution_count": 1,
   "metadata": {},
   "outputs": [],
   "source": [
    "import scikit_build_example as sbe\n",
    "import numpy as np\n",
    "\n",
    "x = np.linspace(0, 10 * np.pi, 1000)\n",
    "y = np.sin(x)\n",
    "\n",
    "sbe.two_input_1d(x,y)"
   ]
  },
  {
   "cell_type": "markdown",
   "metadata": {},
   "source": [
    "![Sine plot](sine_plot.png)"
   ]
  },
  {
   "cell_type": "markdown",
   "metadata": {},
   "source": [
    "Można także wykorzystać drugą funkcje która przyjmuje tylko wartości i sama generuje dla nich punkty"
   ]
  },
  {
   "cell_type": "code",
   "execution_count": 2,
   "metadata": {},
   "outputs": [],
   "source": [
    "import scikit_build_example as sbe\n",
    "import numpy as np\n",
    "\n",
    "x = np.linspace(0, 10 * np.pi, 1000)\n",
    "y = np.sin(x)\n",
    "\n",
    "sbe.one_input_1d(y)"
   ]
  },
  {
   "cell_type": "markdown",
   "metadata": {},
   "source": [
    "![one_input_sine plot](one_input_sine_plot.png)"
   ]
  },
  {
   "cell_type": "markdown",
   "metadata": {},
   "source": [
    "### Generowanie sygnału:\n",
    "* [Wzory użyte do generowania sygnałów w Desmos](https://www.desmos.com/calculator/fpd2g0pjbd)\n",
    "\n",
    "*Wyświetlanie audio za pomocą IPython nie działa w Githubie ale działa w VSCodzie, nie wiem co z innymi narzędziami*"
   ]
  },
  {
   "cell_type": "code",
   "execution_count": 15,
   "metadata": {},
   "outputs": [],
   "source": [
    "import scikit_build_example as sbe\n",
    "import numpy as np\n",
    "import IPython.display\n",
    "\n",
    "# Dane do generowania sygnału (audio):\n",
    "mode = \"audio\"\n",
    "amplitude = 10\n",
    "frequency = 70 # [Hz/(2*pi)]\n",
    "length = 2 # [s]\n",
    "phase = 0 # [rad]\n",
    "rate = 44100 # [Hz] # Dla odtwarzania plików audio najlepiej użyć 44100 Hz, dla wizualizacji wystarczy około 10"
   ]
  },
  {
   "cell_type": "code",
   "execution_count": 27,
   "metadata": {},
   "outputs": [],
   "source": [
    "import scikit_build_example as sbe\n",
    "import numpy as np\n",
    "import IPython.display\n",
    "\n",
    "# Dane do generowania sygnału (wizualizacja):\n",
    "mode = \"graph\"\n",
    "amplitude = 10\n",
    "frequency = 31 # [Hz/(2*pi)]\n",
    "length = 1 # [s]\n",
    "phase = 0 # [rad]\n",
    "rate = 100 # [Hz] # Dla odtwarzania plików audio najlepiej użyć 44100 Hz, dla wizualizacji wystarczy około 10"
   ]
  },
  {
   "cell_type": "code",
   "execution_count": 18,
   "metadata": {},
   "outputs": [],
   "source": [
    "# Sygnał sinusoidalny\n",
    "generated_signal = sbe.generate_signal(\"sin\", amplitude, frequency, length, phase, rate)\n",
    "if mode == \"audio\": IPython.display.Audio(generated_signal, rate=44100)\n",
    "elif mode == \"graph\": sbe.one_input_1d(generated_signal)"
   ]
  },
  {
   "cell_type": "markdown",
   "metadata": {},
   "source": [
    "![Wygenerowany sygnał sinusoidalny](1d_generated_signal('sin').png)"
   ]
  },
  {
   "cell_type": "code",
   "execution_count": 28,
   "metadata": {},
   "outputs": [],
   "source": [
    "# Sygnał prostokątny (współczynnik wypełnienia: ~50%)\n",
    "generated_signal = sbe.generate_signal(\"sqr\", amplitude, frequency, length, phase, rate)\n",
    "if mode == \"audio\": IPython.display.Audio(generated_signal, rate=44100)\n",
    "elif mode == \"graph\": sbe.one_input_1d(generated_signal)"
   ]
  },
  {
   "cell_type": "markdown",
   "metadata": {},
   "source": [
    "Defekty wynikają z częstotliwości. Sygnał jest prostokątny, lecz wyświetla się z defektami co jest normalne przy takich grafach\n",
    "\n",
    "![Wygenerowany sygnał prostokątny](1d_generated_signal('sqr').png)"
   ]
  },
  {
   "cell_type": "code",
   "execution_count": 11,
   "metadata": {},
   "outputs": [],
   "source": [
    "# Sygnał trójkątny\n",
    "generated_signal = sbe.generate_signal(\"tri\", amplitude, frequency, length, phase, rate)\n",
    "if mode == \"audio\": IPython.display.Audio(generated_signal, rate=44100)\n",
    "elif mode == \"graph\": sbe.one_input_1d(generated_signal)"
   ]
  },
  {
   "cell_type": "markdown",
   "metadata": {},
   "source": [
    "![Wygenerowany sygnał trójkątny](1d_generated_signal('tri').png)"
   ]
  },
  {
   "cell_type": "code",
   "execution_count": null,
   "metadata": {},
   "outputs": [],
   "source": [
    "# Sygnał piłokształtny\n",
    "generated_signal = sbe.generate_signal(\"saw\", amplitude, frequency, length, phase, rate)\n",
    "if mode == \"audio\": sbe.one_input_1d(generated_signal)\n",
    "elif mode == \"graph\": IPython.display.Audio(generated_signal, rate=44100)"
   ]
  },
  {
   "cell_type": "markdown",
   "metadata": {},
   "source": [
    "![Wygenerowany sygnał piłokształtny](1d_generated_signal('saw').png)"
   ]
  },
  {
   "cell_type": "markdown",
   "metadata": {},
   "source": [
    "### Filtry 1D\n",
    "\n",
    "Źródło filtrów 1D\n",
    "\n",
    "* [ChatGPT (kopia fragmentu konwersacji)](used_1D_filters.txt) (niestety po internetach nic nie znalazłem co do sygnałów 1d)"
   ]
  },
  {
   "cell_type": "code",
   "execution_count": 29,
   "metadata": {},
   "outputs": [],
   "source": [
    "# Import pliku audio za pomocą scipy (najlepsze do audio)\n",
    "from scipy.io.wavfile import read\n",
    "a = read(\"testMelody.wav\")\n",
    "signal1d = np.array(a[1],dtype=float)\n",
    "rate = 44100\n",
    "mode = \"audio\""
   ]
  },
  {
   "cell_type": "code",
   "execution_count": 9,
   "metadata": {},
   "outputs": [],
   "source": [
    "# Korzystanie z już wygenerowanych plików, bez scipy (najlepsze do grafu)\n",
    "signal1d = sbe.generate_signal(\"saw\", 10, 31, 1, 0, 100)\n",
    "rate = 100\n",
    "sbe.one_input_1d(signal1d)\n",
    "mode = \"graph\""
   ]
  },
  {
   "cell_type": "code",
   "execution_count": 10,
   "metadata": {},
   "outputs": [],
   "source": [
    "# Filtr uśredniający (maska: {1.0, 1.0, 1.0})\n",
    "filtered_signal = sbe.filter_signal(signal1d, \"mdn\")\n",
    "if mode == \"audio\": IPython.display.Audio(filtered_signal, rate=rate)\n",
    "elif mode == \"graph\": sbe.one_input_1d(filtered_signal)"
   ]
  },
  {
   "cell_type": "markdown",
   "metadata": {},
   "source": [
    "![Wynik filtru uśredniającego](1d_filtered_signal('mdn').png)"
   ]
  },
  {
   "cell_type": "code",
   "execution_count": 11,
   "metadata": {},
   "outputs": [],
   "source": [
    "# Filtr Sobela (wykrywanie krawędzi) (maska: {-1.0, 0.0, 1.0})\n",
    "filtered_signal = sbe.filter_signal(signal1d, \"sob\")\n",
    "if mode == \"audio\": IPython.display.Audio(filtered_signal, rate=rate)\n",
    "elif mode == \"graph\": sbe.one_input_1d(filtered_signal)"
   ]
  },
  {
   "cell_type": "markdown",
   "metadata": {},
   "source": [
    "![Wynik filtru Sobela](1d_filtered_signal('sob').png)"
   ]
  },
  {
   "cell_type": "code",
   "execution_count": 12,
   "metadata": {},
   "outputs": [],
   "source": [
    "# Filtr wysokoprzepustowy (maska: {0.0, -1.0, 1.0})\n",
    "filtered_signal = sbe.filter_signal(signal1d, \"hpf\")\n",
    "if mode == \"audio\": IPython.display.Audio(filtered_signal, rate=rate)\n",
    "elif mode == \"graph\": sbe.one_input_1d(filtered_signal)"
   ]
  },
  {
   "cell_type": "markdown",
   "metadata": {},
   "source": [
    "![Wynik filtru wysokoprzepustowego](1d_filtered_signal('hpf').png)"
   ]
  },
  {
   "cell_type": "code",
   "execution_count": 13,
   "metadata": {},
   "outputs": [],
   "source": [
    "# Filtr Laplace'a (maska: {1.0, -2.0, 1.0})\n",
    "filtered_signal = sbe.filter_signal(signal1d, \"lpl\")\n",
    "if mode == \"audio\": IPython.display.Audio(filtered_signal, rate=rate)\n",
    "sbe.one_input_1d(filtered_signal)"
   ]
  },
  {
   "cell_type": "markdown",
   "metadata": {},
   "source": [
    "![Wynik filtru uśredniającego](1d_filtered_signal('lpl').png)"
   ]
  },
  {
   "cell_type": "markdown",
   "metadata": {},
   "source": [
    "### Filtry 2D\n",
    "\n",
    "Źródła filtrów 2D\n",
    "* [wikipedia.org](https://en.wikipedia.org/wiki/Kernel_(image_processing))\n",
    "* [processing.org](https://processing.org/examples/convolution.html)\n",
    "\n",
    "Oryginalne zdjęcie:\n",
    "\n",
    "![Oryginalne zdjęcie](politechnika.jpg)"
   ]
  },
  {
   "cell_type": "code",
   "execution_count": null,
   "metadata": {},
   "outputs": [],
   "source": [
    "# Filtr wyostrzający (maska: { { 0.0, -1.0,  0.0},\n",
    "#                              {-1.0,  5.0, -1.0},\n",
    "#                              { 0.0, -1.0,  0.0} }\n",
    "filtered_signal = sbe.filter_signal(signal2d, \"shp\")\n",
    "filtered_signal = np.clip(filtered_signal, 0, 255).astype(np.uint8)\n",
    "Image.fromarray(filtered_signal).show()"
   ]
  },
  {
   "cell_type": "markdown",
   "metadata": {},
   "source": [
    "![Wynik filtru wyostrzającego](2d_filtered_signal('shp').jpg)"
   ]
  },
  {
   "cell_type": "code",
   "execution_count": null,
   "metadata": {},
   "outputs": [],
   "source": [
    "# Rozmycie Gaussa (maska: { {1 / 16.0, 2 / 16.0, 1 / 16.0},\n",
    "#                           {2 / 16.0, 4 / 16.0, 2 / 16.0},\n",
    "#                           {1 / 16.0, 2 / 16.0, 1 / 16.0} }\n",
    "filtered_signal = sbe.filter_signal(signal2d, \"gbl\")\n",
    "filtered_signal = np.clip(filtered_signal, 0, 255).astype(np.uint8)\n",
    "Image.fromarray(filtered_signal).show()"
   ]
  },
  {
   "cell_type": "markdown",
   "metadata": {},
   "source": [
    "![Wynik filtru Gaussa](2d_filtered_signal('gbl').jpg)"
   ]
  },
  {
   "cell_type": "code",
   "execution_count": null,
   "metadata": {},
   "outputs": [],
   "source": [
    "# Detekcja krawędzi za pomocą filtru Laplace'a (maska: { {0.0,  1.0, 0.0},\n",
    "#                                        {1.0, -4.0, 1.0},\n",
    "#                                        {0.0,  1.0, 0.0} }\n",
    "filtered_signal = sbe.filter_signal(signal2d, \"edt\")\n",
    "filtered_signal = np.clip(filtered_signal, 0, 255).astype(np.uint8)\n",
    "Image.fromarray(filtered_signal).show()"
   ]
  },
  {
   "cell_type": "markdown",
   "metadata": {},
   "source": [
    "![Wynik filtru Laplace'a](2d_filtered_signal('edt').jpg)"
   ]
  },
  {
   "cell_type": "code",
   "execution_count": null,
   "metadata": {},
   "outputs": [],
   "source": [
    "# Filtr \"wytłaczający\" (embossing) (maska: { {-2.0, -1.0, 0.0},\n",
    "#                                            {-1.0,  1.0, 1.0},\n",
    "#                                            { 0.0,  1.0, 2.0} }\n",
    "filtered_signal = sbe.filter_signal(signal2d, \"emb\")\n",
    "filtered_signal = np.clip(filtered_signal, 0, 255).astype(np.uint8)\n",
    "Image.fromarray(filtered_signal).show()"
   ]
  },
  {
   "cell_type": "markdown",
   "metadata": {},
   "source": [
    "![Wynik filtru wytłaczającego](2d_filtered_signal('emb').jpg)"
   ]
  },
  {
   "cell_type": "markdown",
   "metadata": {},
   "source": [
    "### Wykrywanie krawędzi (za pomocą operatora Sobela)\n",
    "\n",
    "Źródła: \n",
    "* [\"Algorytmy wykrywania krawędzi w obrazie\", Paweł Kowalski, Maciej Czyżak](https://bibliotekanauki.pl/articles/377584.pdf&ved=2ahUKEwiPhuyOqZWGAxWHAxAIHZcJDEsQFnoECB4QAQ&usg=AOvVaw0ak04HQKNdi1a0gmbi-_kT)\n",
    "* [wikipedia.org](https://en.wikipedia.org/wiki/Sobel_operator)\n"
   ]
  },
  {
   "cell_type": "code",
   "execution_count": null,
   "metadata": {},
   "outputs": [],
   "source": [
    "edge_detection = sbe.detect_edge(signal2d)\n",
    "edge_detection = np.clip(edge_detection, 0, 255).astype(np.uint8)\n",
    "# TODO: tu wstaw wyświetlanie sygnału typu np.array w dwóch wymiarach\n",
    "Image.fromarray(edge_detection).show() # Temporary\n",
    "# Wynik "
   ]
  },
  {
   "cell_type": "markdown",
   "metadata": {},
   "source": [
    "![Wynik detekcji krawędzi Sobela](detect_edge.jpg)"
   ]
  }
 ],
 "metadata": {
  "kernelspec": {
   "display_name": "base",
   "language": "python",
   "name": "python3"
  },
  "language_info": {
   "codemirror_mode": {
    "name": "ipython",
    "version": 3
   },
   "file_extension": ".py",
   "mimetype": "text/x-python",
   "name": "python",
   "nbconvert_exporter": "python",
   "pygments_lexer": "ipython3",
   "version": "3.12.2"
  }
 },
 "nbformat": 4,
 "nbformat_minor": 2
}
