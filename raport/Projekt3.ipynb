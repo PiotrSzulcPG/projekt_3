{
 "cells": [
  {
   "cell_type": "markdown",
   "metadata": {},
   "source": [
    "# Semestr 2, Projekt 3\n",
    "***Autorzy: Kacper Glaz (198236) oraz Piotr Szulc (197639)***\n",
    "\n",
    "### Wstęp: Wczytanie sygnałów:"
   ]
  },
  {
   "cell_type": "code",
   "execution_count": null,
   "metadata": {},
   "outputs": [],
   "source": [
    "from PIL import Image\n",
    "import scikit_build_example as sbe\n",
    "import numpy as np\n",
    "import IPython.display\n",
    "\n",
    "image = Image.open('politechnika.jpg')\n",
    "signal2d = np.array(image)\n",
    "image.show(\"Przykładowe zdjęcie wyświetlone za pomocą PIL\")"
   ]
  },
  {
   "cell_type": "code",
   "execution_count": null,
   "metadata": {},
   "outputs": [],
   "source": [
    "# TODO: tu wstaw wyświetlanie sygnału typu np.array w jednym wymiarze"
   ]
  },
  {
   "cell_type": "markdown",
   "metadata": {},
   "source": [
    "### Sygnał 2D:"
   ]
  },
  {
   "cell_type": "code",
   "execution_count": null,
   "metadata": {},
   "outputs": [],
   "source": [
    "# TODO: tu wstaw wyświetlanie sygnału typu np.array w dwóch wymiarach"
   ]
  },
  {
   "cell_type": "markdown",
   "metadata": {},
   "source": [
    "### Filtry 1D\n",
    "\n",
    "Źródło filtrów 1D\n",
    "\n",
    "* [ChatGPT](used_1D_filters.txt)"
   ]
  },
  {
   "cell_type": "code",
   "execution_count": null,
   "metadata": {},
   "outputs": [],
   "source": [
    "# Filtr uśredniający (maska: {1.0, 1.0, 1.0})\n",
    "filtered_signal = sbe.filter_signal(data_array_1D, \"mdn\")\n",
    "IPython.display.Audio(filtered_signal, rate=44100)"
   ]
  },
  {
   "cell_type": "code",
   "execution_count": null,
   "metadata": {},
   "outputs": [],
   "source": [
    "# Filtr niskoprzepustowy (maska: {1.0 / 3.0, 1.0 / 3.0, 1.0 / 3.0})\n",
    "filtered_signal = sbe.filter_signal(data_array_1D, \"lpf\")\n",
    "IPython.display.Audio(filtered_signal, rate=44100)"
   ]
  },
  {
   "cell_type": "code",
   "execution_count": null,
   "metadata": {},
   "outputs": [],
   "source": [
    "# Filtr wysokoprzepustowy (maska: {0.0, -1.0, 1.0})\n",
    "filtered_signal = sbe.filter_signal(data_array_1D, \"mdn\")\n",
    "IPython.display.Audio(filtered_signal, rate=44100)"
   ]
  },
  {
   "cell_type": "code",
   "execution_count": null,
   "metadata": {},
   "outputs": [],
   "source": [
    "# Filtr Laplace'a (maska: {1.0, -2.0, 1.0})\n",
    "filtered_signal = sbe.filter_signal(data_array_1D, \"mdn\")\n",
    "IPython.display.Audio(filtered_signal, rate=44100)"
   ]
  },
  {
   "cell_type": "markdown",
   "metadata": {},
   "source": [
    "### Filtry 2D\n",
    "\n",
    "Źródła filtrów 2D\n",
    "* [wikipedia.org](https://en.wikipedia.org/wiki/Kernel_(image_processing))\n",
    "* [processing.org](https://processing.org/examples/convolution.html)"
   ]
  },
  {
   "cell_type": "code",
   "execution_count": null,
   "metadata": {},
   "outputs": [],
   "source": [
    "# Filtr wyostrzający (maska: { { 0.0, -1.0,  0.0},\n",
    "#                              {-1.0,  5.0, -1.0},\n",
    "#                              { 0.0, -1.0,  0.0} }\n",
    "filtered_signal = sbe.filter_signal(signal2d, \"shp\")\n",
    "filtered_signal = np.clip(filtered_signal, 0, 255).astype(np.uint8)\n",
    "Image.fromarray(filtered_signal).show()"
   ]
  },
  {
   "cell_type": "code",
   "execution_count": null,
   "metadata": {},
   "outputs": [],
   "source": [
    "# Rozmycie Gaussa (maska: { {1 / 16.0, 2 / 16.0, 1 / 16.0},\n",
    "#                           {2 / 16.0, 4 / 16.0, 2 / 16.0},\n",
    "#                           {1 / 16.0, 2 / 16.0, 1 / 16.0} }\n",
    "filtered_signal = sbe.filter_signal(signal2d, \"gbl\")\n",
    "filtered_signal = np.clip(filtered_signal, 0, 255).astype(np.uint8)\n",
    "Image.fromarray(filtered_signal).show()"
   ]
  },
  {
   "cell_type": "code",
   "execution_count": null,
   "metadata": {},
   "outputs": [],
   "source": [
    "# Detekcja krawędzi za pomocą filtru Laplace'a (maska: { {0.0,  1.0, 0.0},\n",
    "#                                        {1.0, -4.0, 1.0},\n",
    "#                                        {0.0,  1.0, 0.0} }\n",
    "filtered_signal = sbe.filter_signal(signal2d, \"edt\")\n",
    "filtered_signal = np.clip(filtered_signal, 0, 255).astype(np.uint8)\n",
    "Image.fromarray(filtered_signal).show()"
   ]
  },
  {
   "cell_type": "code",
   "execution_count": null,
   "metadata": {},
   "outputs": [],
   "source": [
    "# Filtr \"wytłaczający\" (embossing) (maska: { {-2.0, -1.0, 0.0},\n",
    "#                                            {-1.0,  1.0, 1.0},\n",
    "#                                            { 0.0,  1.0, 2.0} }\n",
    "filtered_signal = sbe.filter_signal(signal2d, \"emb\")\n",
    "filtered_signal = np.clip(filtered_signal, 0, 255).astype(np.uint8)\n",
    "Image.fromarray(filtered_signal).show()"
   ]
  },
  {
   "cell_type": "markdown",
   "metadata": {},
   "source": [
    "### Wykrywanie krawędzi (za pomocą operatora Sobela)\n",
    "\n",
    "Źródła: \n",
    "* [\"Algorytmy wykrywania krawędzi w obrazie\", Paweł Kowalski, Maciej Czyżak](https://bibliotekanauki.pl/articles/377584.pdf&ved=2ahUKEwiPhuyOqZWGAxWHAxAIHZcJDEsQFnoECB4QAQ&usg=AOvVaw0ak04HQKNdi1a0gmbi-_kT)\n",
    "* [wikipedia.org](https://en.wikipedia.org/wiki/Sobel_operator)\n"
   ]
  },
  {
   "cell_type": "code",
   "execution_count": null,
   "metadata": {},
   "outputs": [],
   "source": [
    "edge_detection = sbe.detect_edge(signal2d)\n",
    "edge_detection = np.clip(edge_detection, 0, 255).astype(np.uint8)\n",
    "# TODO: tu wstaw wyświetlanie sygnału typu np.array w dwóch wymiarach\n",
    "Image.fromarray(edge_detection).show() # Temporary\n"
   ]
  }
 ],
 "metadata": {
  "kernelspec": {
   "display_name": "base",
   "language": "python",
   "name": "python3"
  },
  "language_info": {
   "codemirror_mode": {
    "name": "ipython",
    "version": 3
   },
   "file_extension": ".py",
   "mimetype": "text/x-python",
   "name": "python",
   "nbconvert_exporter": "python",
   "pygments_lexer": "ipython3",
   "version": "3.12.2"
  }
 },
 "nbformat": 4,
 "nbformat_minor": 2
}
