{
 "cells": [
  {
   "cell_type": "markdown",
   "metadata": {},
   "source": [
    "# Semestr 2, Projekt 3\n",
    "*Autorzy: Kacper Glaz (198236) oraz Piotr Szulc (197639)*\n",
    "\n",
    "### Wstęp: Wczytanie sygnałów:"
   ]
  },
  {
   "cell_type": "code",
   "execution_count": null,
   "metadata": {},
   "outputs": [],
   "source": [
    "import IPython.display\n",
    "import scikit_build_example as sbe\n",
    "from PIL import Image\n",
    "import numpy as np\n",
    "import IPython\n",
    "\n",
    "image = Image.open(\"testImage.jpg\")\n",
    "\n",
    "signal2d = np.array(image)"
   ]
  },
  {
   "cell_type": "markdown",
   "metadata": {},
   "source": [
    "### 1. Wizualizacja sygnału"
   ]
  },
  {
   "cell_type": "markdown",
   "metadata": {},
   "source": [
    "**1a. Sygnał 1D:**"
   ]
  },
  {
   "cell_type": "code",
   "execution_count": 23,
   "metadata": {},
   "outputs": [],
   "source": [
    "IPython.display.Audio(\"testMelody.wav\") # Odtwarzacz audio\n",
    "# TODO: tu wstaw wyświetlanie sygnału typu np.array w jednym wymiarze"
   ]
  },
  {
   "cell_type": "markdown",
   "metadata": {},
   "source": [
    "**1b. Sygnał 2D:**"
   ]
  },
  {
   "cell_type": "code",
   "execution_count": 24,
   "metadata": {},
   "outputs": [],
   "source": [
    "IPython.display.display(image) # Wyświetlenie oryginalnego zdjęcia\n",
    "# TODO: tu wstaw wyświetlanie sygnału typu np.array w dwóch wymiarach"
   ]
  },
  {
   "cell_type": "markdown",
   "metadata": {},
   "source": [
    "### 2. Generowanie sygnału (z wizualizacją)"
   ]
  },
  {
   "cell_type": "markdown",
   "metadata": {},
   "source": [
    "**2a. Sygnał sinusoidalny:**\n",
    "\n",
    "*[Wiki ze wzorem](https://en.wikipedia.org/wiki/Sine_wave)*"
   ]
  },
  {
   "cell_type": "code",
   "execution_count": null,
   "metadata": {},
   "outputs": [],
   "source": [
    "generated_signal = sbe.generate_signal(\"sin\", 10, 440, 1000)\n",
    "IPython.display.Audio(generated_signal)"
   ]
  },
  {
   "cell_type": "markdown",
   "metadata": {},
   "source": [
    "**2b. Sygnał kwadratowy**\n",
    "\n",
    "*[Wiki ze wzorem](https://en.wikipedia.org/wiki/Square_wave)*"
   ]
  },
  {
   "cell_type": "code",
   "execution_count": null,
   "metadata": {},
   "outputs": [],
   "source": [
    "generated_signal = sbe.generate_signal(\"sqr\", 10, 440, 1000)\n",
    "IPython.display.Audio(generated_signal)"
   ]
  },
  {
   "cell_type": "markdown",
   "metadata": {},
   "source": [
    "**2c. Sygnał trójkątny**\n",
    "\n",
    "*[Wiki ze wzorem](https://en.wikipedia.org/wiki/Triangle_wave)*"
   ]
  },
  {
   "cell_type": "code",
   "execution_count": null,
   "metadata": {},
   "outputs": [],
   "source": [
    "generated_signal = sbe.generate_signal(\"tri\", 10, 440, 1000)\n",
    "IPython.display.Audio(generated_signal)"
   ]
  },
  {
   "cell_type": "markdown",
   "metadata": {},
   "source": [
    "**2d. Sygnał piłokształtny**\n",
    "\n",
    "*[Wiki ze wzorem](https://en.wikipedia.org/wiki/Sawtooth_wave)*"
   ]
  },
  {
   "cell_type": "code",
   "execution_count": null,
   "metadata": {},
   "outputs": [],
   "source": [
    "generated_signal = sbe.generate_signal(\"saw\", 10, 440, 1000)\n",
    "IPython.display.Audio(generated_signal)"
   ]
  },
  {
   "cell_type": "markdown",
   "metadata": {},
   "source": [
    "### Wykrywanie krawędzi (za pomocą operatora Sobela)\n",
    "*Źródło: [\"Algorytmy wykrywania krawędzi w obrazie\", Paweł Kowalski, Maciej Czyżak](https://bibliotekanauki.pl/articles/377584.pdf&ved=2ahUKEwiPhuyOqZWGAxWHAxAIHZcJDEsQFnoECB4QAQ&usg=AOvVaw0ak04HQKNdi1a0gmbi-_kT)*"
   ]
  },
  {
   "cell_type": "code",
   "execution_count": null,
   "metadata": {},
   "outputs": [],
   "source": [
    "image_grayscale = image.convert(\"L\") # Detekcja krawędzi musi być w grayscale\n",
    "signal2d_from_grayscale = np.array(image_grayscale)\n",
    "edge_detection = sbe.detect_edge(signal2d_from_grayscale)\n",
    "# TODO: tu wstaw wyświetlanie sygnału typu np.array w dwóch wymiarach\n",
    "Image.fromarray(edge_detection).show() # Temporary\n"
   ]
  }
 ],
 "metadata": {
  "kernelspec": {
   "display_name": "base",
   "language": "python",
   "name": "python3"
  },
  "language_info": {
   "codemirror_mode": {
    "name": "ipython",
    "version": 3
   },
   "file_extension": ".py",
   "mimetype": "text/x-python",
   "name": "python",
   "nbconvert_exporter": "python",
   "pygments_lexer": "ipython3",
   "version": "3.12.2"
  }
 },
 "nbformat": 4,
 "nbformat_minor": 2
}
